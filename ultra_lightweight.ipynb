{
 "cells": [
  {
   "cell_type": "code",
   "id": "initial_id",
   "metadata": {
    "collapsed": true,
    "ExecuteTime": {
     "end_time": "2025-05-11T14:34:27.220158Z",
     "start_time": "2025-05-11T14:34:26.618155Z"
    }
   },
   "source": [
    "import tensorflow as tf\n",
    "\n",
    "model = tf.keras.Sequential([\n",
    "    # Input: 128x128 works better for mobile than 256x256\n",
    "    tf.keras.layers.InputLayer(input_shape=(128, 128, 3)),\n",
    "\n",
    "    # Mobile-optimized layers\n",
    "    tf.keras.layers.Conv2D(32, (3,3), activation='relu'),  # Tiny filters\n",
    "    tf.keras.layers.MaxPooling2D(),\n",
    "    tf.keras.layers.Conv2D(64, (3,3), activation='relu'),  # Lightweight\n",
    "    tf.keras.layers.MaxPooling2D(),\n",
    "    tf.keras.layers.Flatten(),\n",
    "    tf.keras.layers.Dense(128, activation='relu'),\n",
    "    tf.keras.layers.Dropout(0.5),  # Reduces overfitting\n",
    "    tf.keras.layers.Dense(17, activation='softmax')\n",
    "])\n",
    "lr_schedule = tf.keras.optimizers.schedules.ExponentialDecay(\n",
    "    initial_learning_rate=0.001,\n",
    "    decay_steps=1000,\n",
    "    decay_rate=0.9)\n",
    "optimizer = tf.keras.optimizers.Adam(learning_rate=lr_schedule)\n",
    "model.compile(\n",
    "    optimizer=optimizer,\n",
    "    loss='sparse_categorical_crossentropy',\n",
    "    metrics=['accuracy']\n",
    ")"
   ],
   "outputs": [],
   "execution_count": 17
  },
  {
   "metadata": {
    "ExecuteTime": {
     "end_time": "2025-05-11T14:34:33.644614Z",
     "start_time": "2025-05-11T14:34:31.115874Z"
    }
   },
   "cell_type": "code",
   "source": [
    "def preprocess(image, label):\n",
    "    # Convert to float32 and normalize to [-1, 1]\n",
    "    image = tf.cast(image, tf.float32) / 127.5 - 1.0\n",
    "    # Glove-specific augmentations\n",
    "    image = tf.image.random_brightness(image, max_delta=0.2)\n",
    "    image = tf.image.random_contrast(image, lower=0.8, upper=1.2)\n",
    "    return image, label\n",
    "\n",
    "# Load dataset\n",
    "train_ds = tf.keras.utils.image_dataset_from_directory(\n",
    "    \"C:/Users/crese/Downloads/caddy-gestures-complete-v2-release-all-scenarios-fast.ai\",\n",
    "    image_size=(128, 128),\n",
    "    batch_size=32\n",
    ").map(preprocess)  # Apply augmentations here\n",
    "\n",
    "# Manual validation split\n",
    "val_split = 0.2\n",
    "train_samples = int((1 - val_split) * len(train_ds))\n",
    "val_ds = train_ds.skip(train_samples)\n",
    "train_ds = train_ds.take(train_samples)"
   ],
   "id": "3d2fab12d597730",
   "outputs": [
    {
     "name": "stdout",
     "output_type": "stream",
     "text": [
      "Found 18482 files belonging to 17 classes.\n"
     ]
    }
   ],
   "execution_count": 18
  },
  {
   "metadata": {
    "ExecuteTime": {
     "end_time": "2025-05-11T15:11:49.201581Z",
     "start_time": "2025-05-11T14:35:18.451905Z"
    }
   },
   "cell_type": "code",
   "source": [
    "# Callbacks\n",
    "callbacks = [\n",
    "    tf.keras.callbacks.EarlyStopping(patience=5),\n",
    "    tf.keras.callbacks.ModelCheckpoint('glove_gestures.keras')\n",
    "]\n",
    "\n",
    "# Train\n",
    "history = model.fit(\n",
    "    train_ds,\n",
    "    epochs=10,\n",
    "    validation_data=val_ds,  # Use manually split validation\n",
    "    callbacks=callbacks\n",
    ")"
   ],
   "id": "179de93427121cb4",
   "outputs": [
    {
     "name": "stdout",
     "output_type": "stream",
     "text": [
      "Epoch 1/10\n",
      "\u001B[1m462/462\u001B[0m \u001B[32m━━━━━━━━━━━━━━━━━━━━\u001B[0m\u001B[37m\u001B[0m \u001B[1m172s\u001B[0m 368ms/step - accuracy: 0.2219 - loss: 2.6236 - val_accuracy: 0.4346 - val_loss: 1.7526\n",
      "Epoch 2/10\n",
      "\u001B[1m462/462\u001B[0m \u001B[32m━━━━━━━━━━━━━━━━━━━━\u001B[0m\u001B[37m\u001B[0m \u001B[1m170s\u001B[0m 368ms/step - accuracy: 0.4051 - loss: 1.8594 - val_accuracy: 0.5395 - val_loss: 1.4485\n",
      "Epoch 3/10\n",
      "\u001B[1m462/462\u001B[0m \u001B[32m━━━━━━━━━━━━━━━━━━━━\u001B[0m\u001B[37m\u001B[0m \u001B[1m201s\u001B[0m 435ms/step - accuracy: 0.4997 - loss: 1.5389 - val_accuracy: 0.6160 - val_loss: 1.1795\n",
      "Epoch 4/10\n",
      "\u001B[1m462/462\u001B[0m \u001B[32m━━━━━━━━━━━━━━━━━━━━\u001B[0m\u001B[37m\u001B[0m \u001B[1m199s\u001B[0m 432ms/step - accuracy: 0.5797 - loss: 1.2481 - val_accuracy: 0.6628 - val_loss: 1.0403\n",
      "Epoch 5/10\n",
      "\u001B[1m462/462\u001B[0m \u001B[32m━━━━━━━━━━━━━━━━━━━━\u001B[0m\u001B[37m\u001B[0m \u001B[1m219s\u001B[0m 473ms/step - accuracy: 0.6482 - loss: 1.0263 - val_accuracy: 0.7001 - val_loss: 0.9413\n",
      "Epoch 6/10\n",
      "\u001B[1m462/462\u001B[0m \u001B[32m━━━━━━━━━━━━━━━━━━━━\u001B[0m\u001B[37m\u001B[0m \u001B[1m238s\u001B[0m 515ms/step - accuracy: 0.7059 - loss: 0.8589 - val_accuracy: 0.7271 - val_loss: 0.8854\n",
      "Epoch 7/10\n",
      "\u001B[1m462/462\u001B[0m \u001B[32m━━━━━━━━━━━━━━━━━━━━\u001B[0m\u001B[37m\u001B[0m \u001B[1m261s\u001B[0m 565ms/step - accuracy: 0.7513 - loss: 0.7160 - val_accuracy: 0.7534 - val_loss: 0.8159\n",
      "Epoch 8/10\n",
      "\u001B[1m462/462\u001B[0m \u001B[32m━━━━━━━━━━━━━━━━━━━━\u001B[0m\u001B[37m\u001B[0m \u001B[1m253s\u001B[0m 547ms/step - accuracy: 0.7908 - loss: 0.6198 - val_accuracy: 0.7661 - val_loss: 0.8087\n",
      "Epoch 9/10\n",
      "\u001B[1m462/462\u001B[0m \u001B[32m━━━━━━━━━━━━━━━━━━━━\u001B[0m\u001B[37m\u001B[0m \u001B[1m245s\u001B[0m 531ms/step - accuracy: 0.8189 - loss: 0.5205 - val_accuracy: 0.7799 - val_loss: 0.7898\n",
      "Epoch 10/10\n",
      "\u001B[1m462/462\u001B[0m \u001B[32m━━━━━━━━━━━━━━━━━━━━\u001B[0m\u001B[37m\u001B[0m \u001B[1m231s\u001B[0m 498ms/step - accuracy: 0.8379 - loss: 0.4632 - val_accuracy: 0.7866 - val_loss: 0.7908\n"
     ]
    }
   ],
   "execution_count": 20
  }
 ],
 "metadata": {
  "kernelspec": {
   "display_name": "Python 3",
   "language": "python",
   "name": "python3"
  },
  "language_info": {
   "codemirror_mode": {
    "name": "ipython",
    "version": 2
   },
   "file_extension": ".py",
   "mimetype": "text/x-python",
   "name": "python",
   "nbconvert_exporter": "python",
   "pygments_lexer": "ipython2",
   "version": "2.7.6"
  }
 },
 "nbformat": 4,
 "nbformat_minor": 5
}
